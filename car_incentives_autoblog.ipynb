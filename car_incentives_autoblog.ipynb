{
  "nbformat": 4,
  "nbformat_minor": 0,
  "metadata": {
    "colab": {
      "name": "car incentives autoblog.ipynb",
      "provenance": [],
      "collapsed_sections": [],
      "authorship_tag": "ABX9TyNBBTRgB0mz+Ft+FW8RjaXC",
      "include_colab_link": true
    },
    "kernelspec": {
      "name": "python3",
      "display_name": "Python 3"
    },
    "language_info": {
      "name": "python"
    }
  },
  "cells": [
    {
      "cell_type": "markdown",
      "metadata": {
        "id": "view-in-github",
        "colab_type": "text"
      },
      "source": [
        "<a href=\"https://colab.research.google.com/github/BritCrit/monthly_automotive_incentives_autoblog/blob/main/car_incentives_autoblog.ipynb\" target=\"_parent\"><img src=\"https://colab.research.google.com/assets/colab-badge.svg\" alt=\"Open In Colab\"/></a>"
      ]
    },
    {
      "cell_type": "code",
      "source": [
        "import pandas as pd\n",
        "\n",
        "url = 'https://www.autoblog.com/new-car-incentives/'\n",
        "\n",
        "def collect_incentives(url):\n",
        "  return pd.read_html(url)\n",
        "\n",
        "def find_page_count(df):\n",
        "  page_count = df[0][-1:].iloc[0][0]\n",
        "  return [int(s) for s in page_count.split() if s.isdigit()][0]\\\n",
        "\n",
        "def all_incenvtives(url):\n",
        "  df_frames = []\n",
        "  base_df = collect_incentives(url)\n",
        "  df_frames.append(base_df[0])\n",
        "  page_count = find_page_count(base_df)\n",
        "  print(page_count)\n",
        "  for n in range(2 , page_count):\n",
        "    tmp_df = collect_incentives(f\"https://www.autoblog.com/new-car-incentives/pg-{n}/\")\n",
        "    print(tmp_df)\n",
        "    if tmp_df != None:\n",
        "      df_frames.append(tmp_df[0])\n",
        "    else: \n",
        "      pass\n",
        "  return df_frames\n",
        "\n",
        "def combine_dataframes(url):\n",
        "  collected_dataframes = all_incenvtives(url)\n",
        "  return pd.concat(collected_dataframes, ignore_index=True).ffill(axis=0)\n",
        "\n",
        "master_df = combine_dataframes(url)\n",
        "\n",
        "#Update columns \n",
        "master_df.columns = ['model', 'incentive', 'brand']\n",
        "#Drop repeating lines and page breaks\n",
        "master_df = master_df[master_df['incentive'] != master_df['brand']]\n",
        "#Remove unicode formatting \n",
        "master_df.incentive = master_df.incentive.apply(lambda x: x.replace(u'\\xa0', ' '))\n",
        "\n",
        "master_df.to_csv(\"incentives.csv\", index=False)"
      ],
      "metadata": {
        "id": "fDFs1NAZZITi"
      },
      "execution_count": null,
      "outputs": []
    }
  ]
}